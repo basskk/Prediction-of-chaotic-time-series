{
  "cells": [
    {
      "cell_type": "markdown",
      "metadata": {
        "id": "e86a0a34"
      },
      "source": [
        "# Подготовка"
      ],
      "id": "e86a0a34"
    },
    {
      "cell_type": "code",
      "source": [
        "from google.colab import drive\n",
        "drive.mount('/content/drive')"
      ],
      "metadata": {
        "colab": {
          "base_uri": "https://localhost:8080/"
        },
        "id": "ShT6l69aSff3",
        "outputId": "8c9da3aa-d6da-4a8e-ba77-e44aaaa6bc83"
      },
      "execution_count": 74,
      "outputs": [
        {
          "output_type": "stream",
          "name": "stdout",
          "text": [
            "Drive already mounted at /content/drive; to attempt to forcibly remount, call drive.mount(\"/content/drive\", force_remount=True).\n"
          ]
        }
      ],
      "id": "ShT6l69aSff3"
    },
    {
      "cell_type": "code",
      "execution_count": 75,
      "metadata": {
        "id": "3063ccb1"
      },
      "outputs": [],
      "source": [
        "import numpy as np\n",
        "import random\n",
        "import itertools\n",
        "import matplotlib.pyplot as plt\n",
        "import pandas as pd\n",
        "\n",
        "from tqdm import tqdm\n",
        "from math import sqrt\n",
        "from collections import defaultdict\n",
        "from itertools import combinations, product, groupby\n",
        "from imblearn.over_sampling import SMOTE\n",
        "\n",
        "from scipy.special import gamma\n",
        "from scipy.spatial.distance import pdist, squareform, euclidean\n",
        "from scipy.stats import moment, entropy, kurtosis\n",
        "\n",
        "from sklearn.cluster import DBSCAN\n",
        "from sklearn.metrics import accuracy_score, f1_score\n",
        "from sklearn.model_selection import GridSearchCV\n",
        "from sklearn.linear_model import LogisticRegression\n",
        "from sklearn.svm import SVC\n",
        "from sklearn.tree import DecisionTreeClassifier\n",
        "from sklearn.neighbors import KNeighborsClassifier\n",
        "from sklearn.neural_network import MLPClassifier\n",
        "from sklearn.ensemble import RandomForestClassifier, AdaBoostClassifier, GradientBoostingClassifier\n",
        "from sklearn.model_selection import train_test_split\n",
        "from sklearn.preprocessing import MinMaxScaler"
      ],
      "id": "3063ccb1"
    },
    {
      "cell_type": "code",
      "execution_count": 76,
      "metadata": {
        "id": "d2ecc498"
      },
      "outputs": [],
      "source": [
        "# data generation \n",
        "N = 5\n",
        "WINDOW_MIN = 8\n",
        "WINDOW = 15\n",
        "\n",
        "TRAIN_SIZE = 5000\n",
        "VAL_SIZE = 200\n",
        "TEST_SIZE = 200\n",
        "PTS = 100\n",
        "\n",
        "train_start = 0\n",
        "train_end = TRAIN_SIZE\n",
        "\n",
        "val_init = TRAIN_SIZE + WINDOW - 1\n",
        "val_start = val_init - 1\n",
        "val_end = val_start + VAL_SIZE\n",
        "\n",
        "val_sf_init = val_end + WINDOW - 1\n",
        "val_sf_start = val_sf_init - 1\n",
        "val_sf_end = val_sf_start + VAL_SIZE\n",
        "\n",
        "test_init = val_sf_end + WINDOW - 1\n",
        "test_start = test_init - 1\n",
        "test_end = test_start + TEST_SIZE - WINDOW \n",
        "\n",
        "# clusterize data\n",
        "WISHART_K = 4\n",
        "WISHART_H = 0.2\n",
        "\n",
        "# generate predictions\n",
        "STEPS, EPS = 50, 0.05\n",
        "Q_VALUE = 0.99"
      ],
      "id": "d2ecc498"
    },
    {
      "cell_type": "code",
      "source": [
        "time_series = np.loadtxt('energy_DE.txt', delimiter=',')"
      ],
      "metadata": {
        "id": "Vv8-s4jtT8yx"
      },
      "id": "Vv8-s4jtT8yx",
      "execution_count": 77,
      "outputs": []
    },
    {
      "cell_type": "code",
      "source": [
        "time_series.shape"
      ],
      "metadata": {
        "colab": {
          "base_uri": "https://localhost:8080/"
        },
        "id": "ltIE5kUvULEQ",
        "outputId": "431b90a7-bd78-4e5d-8d99-acddc413ec2d"
      },
      "id": "ltIE5kUvULEQ",
      "execution_count": 78,
      "outputs": [
        {
          "output_type": "execute_result",
          "data": {
            "text/plain": [
              "(26305,)"
            ]
          },
          "metadata": {},
          "execution_count": 78
        }
      ]
    },
    {
      "cell_type": "code",
      "source": [
        "time_series[:10]"
      ],
      "metadata": {
        "colab": {
          "base_uri": "https://localhost:8080/"
        },
        "id": "wt5IMZlhUdNE",
        "outputId": "7e5c0d92-e0e0-4069-9b9e-14c4d4d0cdbf"
      },
      "id": "wt5IMZlhUdNE",
      "execution_count": 79,
      "outputs": [
        {
          "output_type": "execute_result",
          "data": {
            "text/plain": [
              "array([0.25528249, 0.22101689, 0.18514104, 0.15390116, 0.14065876,\n",
              "       0.12518588, 0.09115744, 0.09656993, 0.1118221 , 0.16387754])"
            ]
          },
          "metadata": {},
          "execution_count": 79
        }
      ]
    },
    {
      "cell_type": "code",
      "source": [
        "xs = time_series\n",
        "x_train = xs[train_start:train_end]\n",
        "x_val = xs[val_start:val_end]\n",
        "x_val_sf = xs[val_sf_start:val_sf_end]\n",
        "x_test = xs[test_start:test_end]\n",
        "\n",
        "plt.figure(figsize=(20, 8))\n",
        "plt.plot(time_series[:1000])\n",
        "plt.xticks([i for i in range(0, 1000, 50)])\n",
        "plt.grid()\n",
        "plt.show()"
      ],
      "metadata": {
        "colab": {
          "base_uri": "https://localhost:8080/",
          "height": 485
        },
        "id": "n11hqD68UPm7",
        "outputId": "cb37b9f5-91b5-48f5-a60f-798222a25a79"
      },
      "id": "n11hqD68UPm7",
      "execution_count": 80,
      "outputs": [
        {
          "output_type": "display_data",
          "data": {
            "text/plain": [
              "<Figure size 1440x576 with 1 Axes>"
            ],
            "image/png": "[encoded data removed]"
          },
          "metadata": {
            "needs_background": "light"
          }
        }
      ]
    },
    {
      "cell_type": "markdown",
      "metadata": {
        "id": "QkSFM8bW_26W"
      },
      "source": [
        "# Функции"
      ],
      "id": "QkSFM8bW_26W"
    },
    {
      "cell_type": "markdown",
      "metadata": {
        "id": "a8e3bb00"
      },
      "source": [
        "## Wishart clusterization"
      ],
      "id": "a8e3bb00"
    },
    {
      "cell_type": "code",
      "execution_count": 81,
      "metadata": {
        "id": "2c60007b"
      },
      "outputs": [],
      "source": [
        "def volume(r, m):\n",
        "    return np.pi ** (m / 2) * r ** m / gamma(m / 2 + 1)\n",
        "\n",
        "def significant(cluster, h, p):\n",
        "    max_diff = max(abs(p[i] - p[j]) for i, j in product(cluster, cluster))\n",
        "    return max_diff >= h\n",
        "\n",
        "def partition(dist, l, r, order):\n",
        "    if l == r:\n",
        "        return l\n",
        "\n",
        "    pivot = dist[order[(l + r) // 2]]\n",
        "    left, right = l - 1, r + 1\n",
        "    while True:\n",
        "        while True:\n",
        "            left += 1\n",
        "            if dist[order[left]] >= pivot:\n",
        "                break\n",
        "\n",
        "        while True:\n",
        "            right -= 1\n",
        "            if dist[order[right]] <= pivot:\n",
        "                break\n",
        "\n",
        "        if left >= right:\n",
        "            return right\n",
        "\n",
        "        order[left], order[right] = order[right], order[left]\n",
        "\n",
        "def nth_element(dist, order, k):\n",
        "    l, r = 0, len(order) - 1\n",
        "    while True:\n",
        "        if l == r:\n",
        "            break\n",
        "        m = partition(dist, l, r, order)\n",
        "        if m < k:\n",
        "            l = m + 1\n",
        "        elif m >= k:\n",
        "            r = m\n",
        "\n",
        "def get_clustering(x, k, h, verbose=True):\n",
        "    n = len(x)\n",
        "    if isinstance(x[0], list):\n",
        "        m = len(x[0])\n",
        "    else:\n",
        "        m = 1\n",
        "    dist = squareform(pdist(x))\n",
        "\n",
        "    dk = []\n",
        "    for i in range(n):\n",
        "        order = list(range(n))\n",
        "        nth_element(dist[i], order, k - 1)\n",
        "        dk.append(dist[i][order[k - 1]])\n",
        "\n",
        "\n",
        "    p = [k / (volume(dk[i], m) * n) for i in range(n)]\n",
        "\n",
        "    w = np.full(n, 0)\n",
        "    completed = {0: False}\n",
        "    last = 1\n",
        "    vertices = set()\n",
        "    for d, i in sorted(zip(dk, range(n))):\n",
        "        neigh = set()\n",
        "        neigh_w = set()\n",
        "        clusters = defaultdict(list)\n",
        "        for j in vertices:\n",
        "            if dist[i][j] <= dk[i]:\n",
        "                neigh.add(j)\n",
        "                neigh_w.add(w[j])\n",
        "                clusters[w[j]].append(j)\n",
        "\n",
        "        vertices.add(i)\n",
        "        if len(neigh) == 0:\n",
        "            w[i] = last\n",
        "            completed[last] = False\n",
        "            last += 1\n",
        "        elif len(neigh_w) == 1:\n",
        "            wj = next(iter(neigh_w))\n",
        "            if completed[wj]:\n",
        "                w[i] = 0\n",
        "            else:\n",
        "                w[i] = wj\n",
        "        else:\n",
        "            if all(completed[wj] for wj in neigh_w):\n",
        "                w[i] = 0\n",
        "                continue\n",
        "            significant_clusters = set(wj for wj in neigh_w if significant(clusters[wj], h, p))\n",
        "            if len(significant_clusters) > 1:\n",
        "                w[i] = 0\n",
        "                for wj in neigh_w:\n",
        "                    if wj in significant_clusters:\n",
        "                        completed[wj] = (wj != 0)\n",
        "                    else:\n",
        "                        for j in clusters[wj]:\n",
        "                            w[j] = 0\n",
        "            else:\n",
        "                if len(significant_clusters) == 0:\n",
        "                    s = next(iter(neigh_w))\n",
        "                else:\n",
        "                    s = next(iter(significant_clusters))\n",
        "                w[i] = s\n",
        "                for wj in neigh_w:\n",
        "                    for j in clusters[wj]:\n",
        "                        w[j] = s\n",
        "    return w"
      ],
      "id": "2c60007b"
    },
    {
      "cell_type": "code",
      "execution_count": 82,
      "metadata": {
        "id": "ea95b845"
      },
      "outputs": [],
      "source": [
        "class WishartClusterization(object):\n",
        "    def __init__(self, k, h):\n",
        "        self.k = k\n",
        "        self.h = h\n",
        "        \n",
        "    \n",
        "    def fit(self, x):\n",
        "        n = len(x)\n",
        "        if isinstance(x[0], list):\n",
        "            m = len(x[0])\n",
        "        else:\n",
        "            m = 1\n",
        "        dist = squareform(pdist(x))\n",
        "\n",
        "        dk = []\n",
        "        for i in range(n):\n",
        "            order = list(range(n))\n",
        "            nth_element(dist[i], order, self.k - 1)\n",
        "            dk.append(dist[i][order[self.k - 1]])\n",
        "\n",
        "\n",
        "        p = [self.k / (volume(dk[i], m) * n) for i in range(n)]\n",
        "\n",
        "        w = np.full(n, 0)\n",
        "        completed = {0: False}\n",
        "        last = 1\n",
        "        vertices = set()\n",
        "        for d, i in sorted(zip(dk, range(n))):\n",
        "            neigh = set()\n",
        "            neigh_w = set()\n",
        "            clusters = defaultdict(list)\n",
        "            for j in vertices:\n",
        "                if dist[i][j] <= dk[i]:\n",
        "                    neigh.add(j)\n",
        "                    neigh_w.add(w[j])\n",
        "                    clusters[w[j]].append(j)\n",
        "\n",
        "            vertices.add(i)\n",
        "            if len(neigh) == 0:\n",
        "                w[i] = last\n",
        "                completed[last] = False\n",
        "                last += 1\n",
        "            elif len(neigh_w) == 1:\n",
        "                wj = next(iter(neigh_w))\n",
        "                if completed[wj]:\n",
        "                    w[i] = 0\n",
        "                else:\n",
        "                    w[i] = wj\n",
        "            else:\n",
        "                if all(completed[wj] for wj in neigh_w):\n",
        "                    w[i] = 0\n",
        "                    continue\n",
        "                significant_clusters = set(wj for wj in neigh_w if significant(clusters[wj], self.h, p))\n",
        "                if len(significant_clusters) > 1:\n",
        "                    w[i] = 0\n",
        "                    for wj in neigh_w:\n",
        "                        if wj in significant_clusters:\n",
        "                            completed[wj] = (wj != 0)\n",
        "                        else:\n",
        "                            for j in clusters[wj]:\n",
        "                                w[j] = 0\n",
        "                else:\n",
        "                    if len(significant_clusters) == 0:\n",
        "                        s = next(iter(neigh_w))\n",
        "                    else:\n",
        "                        s = next(iter(significant_clusters))\n",
        "                    w[i] = s\n",
        "                    for wj in neigh_w:\n",
        "                        for j in clusters[wj]:\n",
        "                            w[j] = s\n",
        "        self.labels_ = w\n",
        "        return self"
      ],
      "id": "ea95b845"
    },
    {
      "cell_type": "markdown",
      "metadata": {
        "id": "d2d4cade"
      },
      "source": [
        "## Генерация центров кластеров"
      ],
      "id": "d2d4cade"
    },
    {
      "cell_type": "code",
      "execution_count": 83,
      "metadata": {
        "id": "7a2da666"
      },
      "outputs": [],
      "source": [
        "def generate_centers(x_trains, WISHART_K=4, WISHART_H=0.2): \n",
        "    ws = {}\n",
        "    for pattern, train in x_trains.items():\n",
        "        ws[pattern] = get_clustering(train, WISHART_K, WISHART_H) \n",
        "    centers = {}\n",
        "    \n",
        "    for pattern, w in ws.items():\n",
        "        sorted_by_cluster = sorted(range(len(w)), key=lambda x: w[x])\n",
        "        for wi, cluster in groupby(sorted_by_cluster, lambda x: w[x]):\n",
        "            cluster = list(cluster)\n",
        "            center = np.full(N, 0.0)\n",
        "            for i in cluster:\n",
        "\n",
        "                center += x_trains[pattern][i]\n",
        "            centers.setdefault(pattern, []).append(center / len(cluster))\n",
        "\n",
        "    return centers"
      ],
      "id": "7a2da666"
    },
    {
      "cell_type": "markdown",
      "metadata": {
        "id": "c2fe751f"
      },
      "source": [
        "## Генерация паттернов"
      ],
      "id": "c2fe751f"
    },
    {
      "cell_type": "code",
      "execution_count": 84,
      "metadata": {
        "id": "355b2689"
      },
      "outputs": [],
      "source": [
        "def generate_subsequences(window, num, short=False): \n",
        "    values = list(range(window))\n",
        "    result = []\n",
        "    if short:\n",
        "        for subseq in itertools.combinations(values, num):\n",
        "            diff = WINDOW - WINDOW_MIN \n",
        "            result.append(tuple([num + diff for num in subseq]))\n",
        "    else:\n",
        "        for subseq in itertools.combinations(values, num):\n",
        "            result.append(subseq)\n",
        "    \n",
        "    return result"
      ],
      "id": "355b2689"
    },
    {
      "cell_type": "markdown",
      "metadata": {
        "id": "e475e21d"
      },
      "source": [
        "## Подстановка паттернов"
      ],
      "id": "e475e21d"
    },
    {
      "cell_type": "code",
      "execution_count": 85,
      "metadata": {
        "id": "f713bb4d"
      },
      "outputs": [],
      "source": [
        "def str_subseq(subseq):\n",
        "    if not subseq:\n",
        "        return '<None>'\n",
        "    return ','.join(map(str, subseq))\n",
        "\n",
        "def gen_sample_in_point(values, window, pattern, pos): \n",
        "    if pos - window + 1 + pattern[0] >= 0:\n",
        "        vals = []\n",
        "        bad = values[pos] == None\n",
        "        for j in pattern:\n",
        "            val = values[pos - window + 1 + j]\n",
        "            if val == None:\n",
        "                bad = True\n",
        "                break\n",
        "            vals.append(val)\n",
        "        if bad:\n",
        "            return None\n",
        "        vals.append(values[pos])\n",
        "        return vals\n",
        "    else:\n",
        "        return None\n",
        "\n",
        "def gen_sample_in_point_with_q(values, window, pattern, pos): \n",
        "    if pos - window + 1 + pattern[0] >= 0:\n",
        "        vals = []\n",
        "        bad = values[pos][0] == None\n",
        "        for j in pattern:\n",
        "            val = values[pos - window + 1 + j]\n",
        "            if val[0] == None:\n",
        "                bad = True\n",
        "                break\n",
        "            vals.append(val)\n",
        "        if bad:\n",
        "            return None\n",
        "        vals.append(values[pos])\n",
        "        return vals\n",
        "    else:\n",
        "        return None\n",
        "    \n",
        "def generate_sample(values, window, pattern, put_none=False): \n",
        "    result = []\n",
        "    for i in range(len(values)):\n",
        "        res = gen_sample_in_point(values, window, pattern, i)\n",
        "        if res == None:\n",
        "            if put_none:\n",
        "                result.append(res)\n",
        "        else:\n",
        "            result.append(res)\n",
        "    return result\n",
        "\n",
        "def aggr(pts):\n",
        "    if not pts:\n",
        "        return None\n",
        "    sum_weight = sum(map(lambda center: center[1], pts)) \n",
        "    pred = sum(map(lambda center: center[0] * center[1], pts))\n",
        "    return pred / sum_weight"
      ],
      "id": "f713bb4d"
    },
    {
      "cell_type": "markdown",
      "metadata": {
        "id": "927e9c29"
      },
      "source": [
        "## Функция предсказания"
      ],
      "id": "927e9c29"
    },
    {
      "cell_type": "code",
      "execution_count": 86,
      "metadata": {
        "id": "2779aeee"
      },
      "outputs": [],
      "source": [
        "def generate_predictions(centers, deamon=None, return_set_pred=False, real_mode='test',\n",
        "                          EPS=0.05, Q_VALUE=0.99):\n",
        "    preds = {}\n",
        "    set_preds = {}\n",
        "\n",
        "    if real_mode == 'test':\n",
        "        end_point = val_end\n",
        "        init_point = test_init\n",
        "    else:\n",
        "        end_point = train_end\n",
        "        init_point = val_init\n",
        "\n",
        "    for start_point in tqdm(range(PTS)):\n",
        "        \n",
        "        # initialize empty\n",
        "        preds[start_point] = [None] * (start_point + 1)\n",
        "        if return_set_pred:\n",
        "            set_preds[start_point] = [None] * (start_point + 1)\n",
        "\n",
        "        # current window\n",
        "        wind = list(map(lambda x: (x, 1), xs[end_point + start_point : init_point + start_point]))\n",
        "\n",
        "        for step in range(1, STEPS + 1):\n",
        "            x_tests_for_point = {}\n",
        "            for pattern in patterns:\n",
        "                \n",
        "                key = str_subseq(pattern + (WINDOW - 1,)) \n",
        "                sample = gen_sample_in_point_with_q(np.concatenate([wind, [(0, 0)]]), \n",
        "                                                    WINDOW, pattern, len(wind))\n",
        "                if not sample:\n",
        "                    x_tests_for_point[key] = None\n",
        "                else:\n",
        "                    x_tests_for_point[key] = sample\n",
        "\n",
        "            chosen_centers = []\n",
        "            for pattern, centers_values in centers.items():\n",
        "                if not x_tests_for_point[pattern]:\n",
        "                    continue\n",
        "                vector = np.array(x_tests_for_point[pattern][:-1])[:, 0]\n",
        "                q_values = np.array(x_tests_for_point[pattern][:-1])[:, 1]\n",
        "\n",
        "                for center in centers_values:\n",
        "                    dist = euclidean(vector, center[:-1])\n",
        "                    if dist < EPS:\n",
        "                        weight_d = (EPS - dist) / EPS\n",
        "                        weight_q = np.mean(q_values) * Q_VALUE\n",
        "                        chosen_centers.append((pattern, center, weight_d, weight_q))\n",
        "\n",
        "            last_points = list(map(lambda center: (center[1][-1], center[2], center[3], center[0]), \n",
        "                                  chosen_centers))\n",
        "            \n",
        "            # deamon predict\n",
        "            result_point = deamon.predict(start_point, step, last_points)\n",
        "            preds[start_point].append(result_point)\n",
        "\n",
        "            if return_set_pred:\n",
        "                set_preds[start_point].append(last_points)\n",
        "\n",
        "            \n",
        "            if result_point:\n",
        "                q_value = np.mean(np.array(list(map(lambda center: center[2], \n",
        "                                  chosen_centers))))\n",
        "            else:\n",
        "                q_value = None\n",
        "            \n",
        "            # move the window\n",
        "            wind = np.concatenate([wind[1:], [(result_point, q_value)]])\n",
        "\n",
        "    deamon.predicted = True\n",
        "\n",
        "    if return_set_pred:\n",
        "        return preds, set_preds\n",
        "    return preds"
      ],
      "id": "2779aeee"
    },
    {
      "cell_type": "markdown",
      "metadata": {
        "id": "af0af598"
      },
      "source": [
        "## Визуализация результатов на участке ряда"
      ],
      "id": "af0af598"
    },
    {
      "cell_type": "code",
      "execution_count": 87,
      "metadata": {
        "id": "5e1299c3"
      },
      "outputs": [],
      "source": [
        "def visualize_point(preds, point, real_vals=x_test, plot_all_points=None, plot_tube_points=None,\n",
        "                    highlight_point=None, plot_res_tube=None, offset=3):\n",
        "    plt.figure(figsize=(20, 8))\n",
        "    colors=['green', 'red', 'orange']\n",
        "\n",
        "    limits_real = [point - offset, point + STEPS + offset]\n",
        "    plt.plot(\n",
        "        range(limits_real[0], limits_real[1]),\n",
        "        real_vals[limits_real[0]:limits_real[1]], \n",
        "        label='real values'\n",
        "    )\n",
        "\n",
        "    limits_predictions = [point, point + STEPS]\n",
        "    for i, pred in enumerate(preds):\n",
        "        plt.plot(\n",
        "            range(limits_predictions[0], limits_predictions[1]),\n",
        "            pred[0].get_predictions()[point][limits_predictions[0]:limits_predictions[1]], \n",
        "            label=pred[1], \n",
        "            marker='o', \n",
        "            markersize=2,\n",
        "            c=colors[i]\n",
        "        )\n",
        "\n",
        "        if plot_all_points:\n",
        "            for step in plot_all_points:\n",
        "                raw_preds = pred[0].get_set_predictions()[point][point + step]\n",
        "                set_preds = list(map(lambda x: x[0], raw_preds))\n",
        "                plt.scatter([point + step for i in range(len(set_preds))], \n",
        "                            set_preds, alpha=0.2, color='red')\n",
        "    if highlight_point:\n",
        "        plt.plot(\n",
        "            point + highlight_point,\n",
        "            pred[0].get_predictions()[point][point + highlight_point], \n",
        "            label='bad', \n",
        "            marker='o', \n",
        "            markersize=10, \n",
        "            color=\"purple\"\n",
        "        )\n",
        "\n",
        "    if plot_res_tube is not None:\n",
        "        plt.plot(range(limits_predictions[0] + 1, limits_predictions[1] + 1), plot_res_tube, label='tube avg')\n",
        "\n",
        "    if plot_tube_points is not None:\n",
        "        for tr in plot_tube_points:\n",
        "            plt.plot(range(limits_predictions[0] + 1, limits_predictions[1] + 1), tr, alpha=0.3, linestyle='--')\n",
        "\n",
        "    \n",
        "\n",
        "    plt.scatter([point], real_vals[point], label='start')\n",
        "    plt.axvline(x=(point + 1), linewidth=0.5, color='r', label=\"step 1\")\n",
        "    for mark in range(5, STEPS + 1, 5):\n",
        "        plt.axvline(x=(point + mark), linewidth=0.5, color='r', label=\"step \" + str(mark))\n",
        "\n",
        "    plt.title(\"Divergence\")\n",
        "    plt.xlabel(\"point\")\n",
        "    plt.ylabel(\"Lorenz value\")\n",
        "    plt.legend()"
      ],
      "id": "5e1299c3"
    },
    {
      "cell_type": "markdown",
      "metadata": {
        "id": "708f22be"
      },
      "source": [
        "## Классы алгоритмов"
      ],
      "id": "708f22be"
    },
    {
      "cell_type": "code",
      "execution_count": 88,
      "metadata": {
        "id": "a23e5384"
      },
      "outputs": [],
      "source": [
        "class SimpleDeamon(object): # не использует дополнительные методы определения непрогнозируемых точек\n",
        "    def __init__(self, mode='simple'):\n",
        "        self.mode = mode\n",
        "        self.predictions = {point : [None for i in range(point + 1)] for point in range(PTS)}\n",
        "        self.set_predictions = {point : [None for i in range(point + 1)] for point in range(PTS)}\n",
        "\n",
        "        self.predicted = False\n",
        "        \n",
        "    @property\n",
        "    def label(self):\n",
        "        return 'Simple model of demon with ' + self.mode + ' mode'\n",
        "\n",
        "    def predict(self, start_point, step, preds):\n",
        "        self.set_predictions[start_point].append(preds)\n",
        "        if self.mode == 'simple':\n",
        "            pred = simple_aggr(preds)\n",
        "        elif self.mode == 'd_weighted':\n",
        "            pred = aggr_d(preds)\n",
        "        elif self.mode == 'q_weighted':\n",
        "            pred = aggr_q(preds)\n",
        "        elif self.mode == 'mix':\n",
        "            pred = aggr_mix(preds)\n",
        "\n",
        "        self.predictions[start_point].append(pred)\n",
        "        return pred\n",
        "    \n",
        "    def get_predictions(self):\n",
        "        return self.predictions\n",
        "    \n",
        "    def get_set_predictions(self):\n",
        "        return self.set_predictions\n",
        "\n",
        "    def is_predicted(self):\n",
        "        return self.predicted\n",
        "\n",
        "    def set_preds(self, preds):\n",
        "        self.predictions = preds\n",
        "        return \n",
        "\n",
        "    def set_preds_set(self, preds):\n",
        "        self.set_predictions = preds\n",
        "        return"
      ],
      "id": "a23e5384"
    },
    {
      "cell_type": "code",
      "execution_count": 89,
      "metadata": {
        "id": "8ad015d9"
      },
      "outputs": [],
      "source": [
        "class IdealDeamon(object): # сравнивает единое прогнозное значение с истинным\n",
        "    def __init__(self, eps=0.05, mode='simple', real_vals=x_test):\n",
        "        self.eps = eps\n",
        "        self.mode = mode \n",
        "        self.real_vals=real_vals\n",
        "        self.predictions = {point : [None for i in range(point + 1)] for point in range(PTS)}\n",
        "        self.set_predictions = {point : [None for i in range(point + 1)] for point in range(PTS)}\n",
        "        \n",
        "    @property\n",
        "    def label(self):\n",
        "        return 'Ideal model of demon'\n",
        "\n",
        "    def predict(self, start_point, step, preds):\n",
        "        self.set_predictions[start_point].append(preds)\n",
        "        pred, _, _ = get_weights(start_point, step, self.mode, self.set_predictions)\n",
        "        if not pred or abs(pred - self.real_vals[start_point + step]) > self.eps:\n",
        "            pred = None\n",
        "\n",
        "        self.predictions[start_point].append(pred)\n",
        "        return pred\n",
        "    \n",
        "    def get_predictions(self):\n",
        "       return self.predictions\n",
        "    \n",
        "    def get_set_predictions(self):\n",
        "       return self.set_predictions\n",
        "\n",
        "    def set_preds(self, preds):\n",
        "        self.predictions = preds\n",
        "        return \n",
        "\n",
        "    def set_preds_set(self, preds):\n",
        "        self.set_predictions = preds\n",
        "        return"
      ],
      "id": "8ad015d9"
    },
    {
      "cell_type": "code",
      "execution_count": 90,
      "metadata": {
        "id": "hItQ31z_tVoF"
      },
      "outputs": [],
      "source": [
        "class MLDemon(object): #использует МО для определения непрогнозируемых точек\n",
        "    def __init__(self, clf, stats, scaler, ensemble=False):\n",
        "        self.predictions = {point : [None for i in range(point + 1)] for point in range(PTS)}\n",
        "        self.set_predictions = {point : [None for i in range(point + 1)] for point in range(PTS)}\n",
        "        self.clf = clf\n",
        "        self.stats = stats\n",
        "        self.scaler = scaler\n",
        "        self.ensemble = ensemble\n",
        "        \n",
        "    @property\n",
        "    def label(self):\n",
        "        return self.stat.label()\n",
        "\n",
        "    def predict(self, start_point, step, preds):\n",
        "        self.set_predictions[start_point].append(preds)\n",
        "        if not preds:\n",
        "            pred = None \n",
        "            self.predictions[start_point].append(pred)\n",
        "            return pred\n",
        "        \n",
        "        pred, preds, weights = get_weights(start_point, step, 'mix', self.set_predictions)\n",
        "        hist_vals = np.histogram(preds, weights=weights, bins=100, range=(0, 1)) \n",
        "\n",
        "        features = []\n",
        "        for stat in self.stats:\n",
        "            features.append(stat.apply(preds, hist_vals))\n",
        "        \n",
        "        features = self.scaler.transform([features])\n",
        "        \n",
        "        if self.ensemble:\n",
        "            votes = [c.predict(features) for c in clf]\n",
        "\n",
        "            if np.mean(votes) <= 0.5:\n",
        "                pred = None \n",
        "                self.predictions[start_point].append(pred)\n",
        "                return pred\n",
        "        else:\n",
        "            if not self.clf.predict(features):\n",
        "                pred = None \n",
        "                self.predictions[start_point].append(pred)\n",
        "                return pred\n",
        "        \n",
        "        self.predictions[start_point].append(pred)\n",
        "        return pred\n",
        "    \n",
        "    def get_predictions(self):\n",
        "        return self.predictions\n",
        "    \n",
        "    def get_set_predictions(self):\n",
        "        return self.set_predictions\n",
        "\n",
        "    def set_preds(self, preds):\n",
        "        self.predictions = preds\n",
        "        return \n",
        "\n",
        "    def set_preds_set(self, preds):\n",
        "        self.set_predictions = preds\n",
        "        return"
      ],
      "id": "hItQ31z_tVoF"
    },
    {
      "cell_type": "markdown",
      "metadata": {
        "id": "04c75469"
      },
      "source": [
        "## Выбор единого прогнозного значения и весов "
      ],
      "id": "04c75469"
    },
    {
      "cell_type": "code",
      "execution_count": 91,
      "metadata": {
        "id": "25e1f576"
      },
      "outputs": [],
      "source": [
        "def simple_aggr(pts):\n",
        "    if not pts:\n",
        "        return None\n",
        "    return np.mean(np.array(list(map(lambda center: center[0], pts))))\n",
        "\n",
        "def aggr_d(pts):\n",
        "    # weighted sum by distance\n",
        "    if not pts:\n",
        "        return None\n",
        "    sum_weight = sum(map(lambda center: center[1], pts))\n",
        "    pred = sum(map(lambda center: center[0] * center[1], pts))\n",
        "    return pred / sum_weight\n",
        "\n",
        "def aggr_q(pts):\n",
        "    # weighted sum by q-value\n",
        "    if not pts:\n",
        "        return None\n",
        "    sum_weight = sum(map(lambda center: center[2], pts))\n",
        "    pred = sum(map(lambda center: center[0] * center[2], pts))\n",
        "    return pred / sum_weight\n",
        "\n",
        "def aggr_mix(pts):\n",
        "    if not pts:\n",
        "        return None\n",
        "    sum_weight = sum(map(lambda center: center[1] * center[2], pts))\n",
        "    pred = sum(map(lambda center: center[0] * center[1] * center[2], pts))\n",
        "    return pred / sum_weight"
      ],
      "id": "25e1f576"
    },
    {
      "cell_type": "code",
      "execution_count": 92,
      "metadata": {
        "id": "b01ce152"
      },
      "outputs": [],
      "source": [
        "def get_weights(start, step, mode, set_predictions):\n",
        "    return get_weights_with_preds(set_predictions[start][start + step], mode)\n",
        "\n",
        "def get_weights_with_preds(set_preds, mode):\n",
        "    preds = list(map(lambda x: x[0], set_preds))\n",
        "    pred = simple_aggr(set_preds)\n",
        "\n",
        "    if mode == 'simple':\n",
        "        weights = np.ones(len(preds))\n",
        "    elif mode == 'q-value':\n",
        "        pred = aggr_q(set_preds)\n",
        "        weights = list(map(lambda x: x[2], set_preds))\n",
        "    elif mode == 'dist':\n",
        "        pred = aggr_d(set_preds)\n",
        "        weights = list(map(lambda x: x[1], set_preds))\n",
        "    elif mode == 'mix':\n",
        "        pred = aggr_mix(set_preds)\n",
        "        weights = list(map(lambda x: x[1] * x[2], set_preds))\n",
        "\n",
        "    return pred, preds, weights"
      ],
      "id": "b01ce152"
    },
    {
      "cell_type": "markdown",
      "source": [
        "## Подсчет и визуализация метрик"
      ],
      "metadata": {
        "id": "TlIAjlA6yyrw"
      },
      "id": "TlIAjlA6yyrw"
    },
    {
      "cell_type": "code",
      "source": [
        "def calc_mae(actual, predictions, step):\n",
        "    result = 0\n",
        "    predictable = 0\n",
        "    for start_point, preds in predictions.items():\n",
        "        if start_point == 0:\n",
        "            continue\n",
        "        if preds[start_point + step]:\n",
        "            result += abs(actual[start_point + step] - preds[start_point + step])\n",
        "            predictable += 1\n",
        "    if predictable == 0:\n",
        "        return None\n",
        "    return result / predictable\n",
        "\n",
        "def calc_rmse(actual, predictions, step):\n",
        "    result = 0\n",
        "    predictable = 0\n",
        "    for start_point, preds in predictions.items():\n",
        "        if start_point == 0:\n",
        "            continue\n",
        "        if preds[start_point + step]:\n",
        "            result += np.square(actual[start_point + step] - preds[start_point + step])\n",
        "            predictable += 1\n",
        "    if predictable == 0:\n",
        "        return None\n",
        "    return sqrt(result / predictable)\n",
        "\n",
        "def calc_non_predictable(actual, predictions, step):\n",
        "    result = 0\n",
        "    for start_point, preds in predictions.items():\n",
        "        if start_point == 0:\n",
        "            continue\n",
        "\n",
        "        if not preds[start_point + step]:\n",
        "            result += 1\n",
        "    return result / len(predictions) * 100\n",
        "\n",
        "def calc_predictable(actual, predictions, step):\n",
        "    result = 0\n",
        "    for start_point, preds in predictions.items():\n",
        "        if start_point == 0:\n",
        "            continue       \n",
        "          \n",
        "        if preds[start_point + step]:\n",
        "            result += 1\n",
        "    return result / len(predictions) * 100\n",
        "\n",
        "def calc_metric_for_steps(actual, predictions, calc_metric):\n",
        "    result = [None]\n",
        "    for step in range(1, STEPS + 1):\n",
        "        result.append(calc_metric(actual, predictions, step))\n",
        "    return result\n",
        "\n",
        "def calc_mae_for_steps(actual, predictions):\n",
        "    return calc_metric_for_steps(actual, predictions, calc_mae)\n",
        "\n",
        "def calc_rmse_for_steps(actual, predictions):\n",
        "    return calc_metric_for_steps(actual, predictions, calc_rmse)\n",
        "\n",
        "def calc_non_predictable_for_steps(actual, predictions):\n",
        "    return calc_metric_for_steps(actual, predictions, calc_non_predictable)\n",
        "\n",
        "def calc_predictable_for_steps(actual, predictions):\n",
        "    return calc_metric_for_steps(actual, predictions, calc_predictable)\n",
        "\n",
        "\n",
        "def add_preds(preds, daemon, filtered_preds):\n",
        "    preds[daemon] = filtered_preds\n",
        "\n",
        "def get_metrics(daemons, actual, return_values=False, plot=True):\n",
        "    preds = {}\n",
        "    \n",
        "    for daemon in daemons:\n",
        "        add_preds(preds, daemon[1], daemon[0].get_predictions())\n",
        "\n",
        "    mae, non_pred = plot_daemons_result(actual, preds, plot=plot)\n",
        "\n",
        "    if return_values:\n",
        "        return mae,  non_pred\n",
        "\n",
        "def print_metrics_for_subplot(metrics, ax, title):\n",
        "    for values, label in metrics:\n",
        "        ax.plot(values[:-1], label=label)\n",
        "    ax.set_title(title)\n",
        "    ax.legend(loc='best')\n",
        "    #ax.set_xticks([1, 5, 10, 15, 20, 25, 30])\n",
        "    ax.set_xticks(np.arange(0, STEPS + 1, 5))\n",
        "    ax.grid()\n",
        "\n",
        "def print_metric_for_subplot(func, metric_name, actual, daemons_predictions, ax, plot=True):\n",
        "    metrics = []\n",
        "    for label, pred in daemons_predictions.items():\n",
        "        metrics.append([func(actual, pred), label])\n",
        "    if plot:\n",
        "        print_metrics_for_subplot(metrics, ax, metric_name)\n",
        "    return metrics\n",
        "\n",
        "def plot_daemons_result(actual, daemons_predictions, plot=True):\n",
        "    # plt.rcParams.update({'font.size': 18})\n",
        "    if plot:\n",
        "        fig, ax = plt.subplots(2, 1, figsize=(10,10))\n",
        "\n",
        "        fig.tight_layout()\n",
        "    else:\n",
        "        ax = np.zeros((2,2))\n",
        "\n",
        "    res = []\n",
        "    mae = print_metric_for_subplot(calc_mae_for_steps, 'MAE', actual, daemons_predictions, ax[0], plot=plot)\n",
        "    # rmse = print_metric_for_subplot(calc_rmse_for_steps, 'RMSE', actual, daemons_predictions, ax[0][1], plot=plot)\n",
        "    non_pred = print_metric_for_subplot(calc_non_predictable_for_steps, 'non-predictable (%)', actual, daemons_predictions, ax[1], plot=plot)\n",
        "    # print_metric_for_subplot(calc_predictable_for_steps, 'predictable (%)', actual, daemons_predictions, ax[1][1], plot=plot)\n",
        "    \n",
        "    if plot:\n",
        "        plt.show()\n",
        "\n",
        "    return mae, non_pred"
      ],
      "metadata": {
        "id": "gsqizPcyy4-_"
      },
      "id": "gsqizPcyy4-_",
      "execution_count": 93,
      "outputs": []
    },
    {
      "cell_type": "markdown",
      "metadata": {
        "id": "Ef0tLIeFVCKK"
      },
      "source": [
        "# Считывание данных из файлов"
      ],
      "id": "Ef0tLIeFVCKK"
    },
    {
      "cell_type": "markdown",
      "metadata": {
        "id": "GoOeqHbNWGhx"
      },
      "source": [
        "### Нужные фукции"
      ],
      "id": "GoOeqHbNWGhx"
    },
    {
      "cell_type": "code",
      "execution_count": null,
      "metadata": {
        "id": "70PTYS89WGhy"
      },
      "outputs": [],
      "source": [
        "class Multimode_Stat(object):\n",
        "    def __init__(self, par=0.2):\n",
        "        self.par = par \n",
        "    \n",
        "    def label(self):\n",
        "        return \"Multimode, par=\" + str(self.par)\n",
        "\n",
        "    def apply(self, preds, hist_vals):\n",
        "        mode_num = max(hist_vals[0])\n",
        "        return len(list(filter(lambda val: val >= mode_num * self.par, hist_vals[0])))"
      ],
      "id": "70PTYS89WGhy"
    },
    {
      "cell_type": "code",
      "execution_count": null,
      "metadata": {
        "id": "x6iqJji3WGhz"
      },
      "outputs": [],
      "source": [
        "def weighted_mom(values, weights, par):\n",
        "    m = np.average(values, weights=weights)\n",
        "    var = np.average((values - m)**par, weights=weights)\n",
        "    return var * 1000\n",
        "\n",
        "class Moment_Stat(object):\n",
        "    def __init__(self, par=3):\n",
        "        self.par = par\n",
        "    \n",
        "    def label(self):\n",
        "        return str(self.par) + \" moment\" \n",
        "\n",
        "    def apply(self, preds, hist_vals):\n",
        "        probs = hist_vals[0] / sum(hist_vals[0])\n",
        "        values = hist_vals[1]\n",
        "\n",
        "        return weighted_mom(values[1:], probs, self.par)"
      ],
      "id": "x6iqJji3WGhz"
    },
    {
      "cell_type": "code",
      "execution_count": null,
      "metadata": {
        "id": "gc7lXZGeWGh0"
      },
      "outputs": [],
      "source": [
        "class PercentDiff_Stat(object):\n",
        "    def __init__(self, par_left=0, par_right=100):\n",
        "        self.par_left = par_left\n",
        "        self.par_right = par_right \n",
        "    \n",
        "    def label(self):\n",
        "        return \"Diff \" + str(self.par_right) + \" and \" +  str(self.par_left) + \" perc\"\n",
        "\n",
        "    def apply(self, preds, hist_vals):\n",
        "        right_border = np.percentile(preds, self.par_right)\n",
        "        left_border = np.percentile(preds, self.par_left)\n",
        "        return abs(right_border - left_border)"
      ],
      "id": "gc7lXZGeWGh0"
    },
    {
      "cell_type": "code",
      "execution_count": null,
      "metadata": {
        "id": "Zo4IVFgVWGh0"
      },
      "outputs": [],
      "source": [
        "class Entropy(object):\n",
        "    def __init__(self):\n",
        "        pass\n",
        "    \n",
        "    def label(self):\n",
        "        return \"Entropy\"\n",
        "\n",
        "    def apply(self, preds, hist_vals):\n",
        "        probs = hist_vals[0] / sum(hist_vals[0])\n",
        "        return entropy(probs)"
      ],
      "id": "Zo4IVFgVWGh0"
    },
    {
      "cell_type": "code",
      "execution_count": null,
      "metadata": {
        "id": "B_aYdWKZWGh1"
      },
      "outputs": [],
      "source": [
        "class Kurtosis_Stat(object):\n",
        "    def __init__(self):\n",
        "        pass\n",
        "    \n",
        "    def label(self):\n",
        "        return \"Kurtosis\" \n",
        "\n",
        "    def apply(self, preds, hist_vals):\n",
        "        return kurtosis(hist_vals[0])"
      ],
      "id": "B_aYdWKZWGh1"
    },
    {
      "cell_type": "code",
      "execution_count": null,
      "metadata": {
        "id": "3Cs7Y8zjWGh1"
      },
      "outputs": [],
      "source": [
        "class ClustersAmount_stat(object):\n",
        "    def __init__(self, model=DBSCAN(eps=0.01, min_samples=3)):\n",
        "        self.model = model\n",
        "    \n",
        "    def label(self):\n",
        "        if isinstance(self.model, WishartClusterization):\n",
        "            return \"Amount of clusters Wishart\" \n",
        "        return \"Amount of clusters\"\n",
        "\n",
        "    def apply(self, preds, hist_vals):\n",
        "        if isinstance(self.model, WishartClusterization):\n",
        "            values = np.array(np.unique(preds))\n",
        "            if len(values) == 2:\n",
        "                if abs(values[0] - values[1]) <= 0.001:\n",
        "                    return 1\n",
        "                return 2\n",
        "        else:\n",
        "            values = np.array(preds)\n",
        "        \n",
        "        if len(values) == 1:\n",
        "            return 1\n",
        "\n",
        "        clusters = self.model.fit(values.reshape(-1, 1))\n",
        "        return len(np.unique(clusters.labels_[clusters.labels_ != -1]))"
      ],
      "id": "3Cs7Y8zjWGh1"
    },
    {
      "cell_type": "code",
      "execution_count": null,
      "metadata": {
        "id": "EfXUda5mWGh2"
      },
      "outputs": [],
      "source": [
        "all_stats = [\n",
        "             Multimode_Stat(par=0.2),\n",
        "             Moment_Stat(par=2),\n",
        "             PercentDiff_Stat(par_left=20, par_right=80),\n",
        "             Entropy(),\n",
        "             Kurtosis_Stat(),\n",
        "             ClustersAmount_stat()\n",
        "]"
      ],
      "id": "EfXUda5mWGh2"
    },
    {
      "cell_type": "code",
      "source": [
        "lin_stats = [\n",
        "              Multimode_Stat(par=0.2),\n",
        "              Moment_Stat(par=2),\n",
        "              ClustersAmount_stat(WishartClusterization(3, 0.1))\n",
        "        ]"
      ],
      "metadata": {
        "id": "y83gK8jgO0Dt"
      },
      "id": "y83gK8jgO0Dt",
      "execution_count": null,
      "outputs": []
    },
    {
      "cell_type": "code",
      "source": [
        "def scale(X):\n",
        "    scaler = MinMaxScaler()\n",
        "    scaler.fit(X)\n",
        "    X = scaler.transform(X)\n",
        "    return X, scaler\n",
        "\n",
        "\n",
        "def data_balance(X, y):\n",
        "    sm = SMOTE()\n",
        "    X_res, y_res = sm.fit_resample(X, y)\n",
        "    return X_res, y_res"
      ],
      "metadata": {
        "id": "M0WuwEaptNoB"
      },
      "id": "M0WuwEaptNoB",
      "execution_count": null,
      "outputs": []
    },
    {
      "cell_type": "markdown",
      "source": [
        "### Считывание"
      ],
      "metadata": {
        "id": "CBaZoXWHWJhW"
      },
      "id": "CBaZoXWHWJhW"
    },
    {
      "cell_type": "code",
      "execution_count": null,
      "metadata": {
        "id": "H79wxkDjVCKP"
      },
      "outputs": [],
      "source": [
        "self_centers = np.load('data/real/real_centers.npy', allow_pickle=True).item()"
      ],
      "id": "H79wxkDjVCKP"
    },
    {
      "cell_type": "code",
      "source": [
        "X = np.load(\"data/real/x_real.npy\")\n",
        "y = np.load(\"data/real/y_real.npy\")\n",
        "X_lin = np.load(\"data/real/x_lin.npy\")\n",
        "y_lin = np.load(\"data/real/y_lin.npy\")"
      ],
      "metadata": {
        "id": "cMrENzC3qeiw"
      },
      "id": "cMrENzC3qeiw",
      "execution_count": null,
      "outputs": []
    },
    {
      "cell_type": "code",
      "source": [
        "X, scaler = scale(X)\n",
        "X, y = data_balance(X, y)\n",
        "\n",
        "X_lin, lin_scaler = scale(X_lin)\n",
        "X_lin, y_lin = data_balance(X_lin, y_lin)"
      ],
      "metadata": {
        "id": "J1h-Xm7oVCKS"
      },
      "execution_count": null,
      "outputs": [],
      "id": "J1h-Xm7oVCKS"
    },
    {
      "cell_type": "code",
      "execution_count": null,
      "metadata": {
        "id": "DK2GXt6BVCKT"
      },
      "outputs": [],
      "source": [
        "preds = np.load('data/real/init_demon_real_test_pred.npy', allow_pickle=True).item()\n",
        "\n",
        "init_demon = MLDemon(clf=KNeighborsClassifier(), stats=all_stats, scaler=scaler)\n",
        "init_demon.set_preds(preds)"
      ],
      "id": "DK2GXt6BVCKT"
    },
    {
      "cell_type": "markdown",
      "metadata": {
        "id": "d768e80c"
      },
      "source": [
        "# Алгоритм прогнозирования из статьи"
      ],
      "id": "d768e80c"
    },
    {
      "cell_type": "markdown",
      "metadata": {
        "id": "9ba74b0e"
      },
      "source": [
        "### Генерация паттернов"
      ],
      "id": "9ba74b0e"
    },
    {
      "cell_type": "code",
      "execution_count": 94,
      "metadata": {
        "id": "a18a611f"
      },
      "outputs": [],
      "source": [
        "def generate_patterns():\n",
        "    patterns1 = generate_subsequences(WINDOW_MIN - 1, N - 1, short=True)\n",
        "    patterns2 = generate_subsequences(WINDOW - 1, N - 1)\n",
        "    patterns3 = random.choices(patterns2[300:], k=35)\n",
        "    \n",
        "    return patterns1 + patterns3"
      ],
      "id": "a18a611f"
    },
    {
      "cell_type": "code",
      "execution_count": 95,
      "metadata": {
        "id": "32356a0b"
      },
      "outputs": [],
      "source": [
        "patterns = generate_patterns()"
      ],
      "id": "32356a0b"
    },
    {
      "cell_type": "markdown",
      "metadata": {
        "id": "2db315d8"
      },
      "source": [
        "### Генерация train set'ов"
      ],
      "id": "2db315d8"
    },
    {
      "cell_type": "code",
      "execution_count": 96,
      "metadata": {
        "id": "7262bcea"
      },
      "outputs": [],
      "source": [
        "x_trains = {}\n",
        "\n",
        "for pattern in patterns:\n",
        "    key = str_subseq(pattern + (WINDOW - 1,))\n",
        "    x_trains[key] = generate_sample(x_train, WINDOW, pattern, put_none=False)"
      ],
      "id": "7262bcea"
    },
    {
      "cell_type": "markdown",
      "metadata": {
        "id": "78ca3ca6"
      },
      "source": [
        "### Кластеризация train set'ов и получение центров класстеров"
      ],
      "id": "78ca3ca6"
    },
    {
      "cell_type": "code",
      "execution_count": 101,
      "metadata": {
        "id": "0312c323",
        "colab": {
          "base_uri": "https://localhost:8080/"
        },
        "outputId": "48bf9fc9-99da-4a63-9c63-d31890254978"
      },
      "outputs": [
        {
          "output_type": "stream",
          "name": "stdout",
          "text": [
            "CPU times: user 17min 28s, sys: 4.23 s, total: 17min 32s\n",
            "Wall time: 17min 33s\n"
          ]
        }
      ],
      "source": [
        "%%time\n",
        "\n",
        "centers = generate_centers(x_trains)"
      ],
      "id": "0312c323"
    },
    {
      "cell_type": "code",
      "source": [
        "np.save('drive/My Drive/irka/real_centers.npy', centers)"
      ],
      "metadata": {
        "id": "9Iiu2FxxjXA7"
      },
      "id": "9Iiu2FxxjXA7",
      "execution_count": 102,
      "outputs": []
    },
    {
      "cell_type": "markdown",
      "metadata": {
        "id": "aysKUxwbgCgX"
      },
      "source": [
        "### Stats"
      ],
      "id": "aysKUxwbgCgX"
    },
    {
      "cell_type": "code",
      "execution_count": 107,
      "metadata": {
        "id": "ybLNAztiuO6i"
      },
      "outputs": [],
      "source": [
        "class Multimode_Stat(object):\n",
        "    def __init__(self, par=0.2):\n",
        "        self.par = par \n",
        "    \n",
        "    def label(self):\n",
        "        return \"Multimode, par=\" + str(self.par)\n",
        "\n",
        "    def apply(self, preds, hist_vals):\n",
        "        mode_num = max(hist_vals[0])\n",
        "        return len(list(filter(lambda val: val >= mode_num * self.par, hist_vals[0])))"
      ],
      "id": "ybLNAztiuO6i"
    },
    {
      "cell_type": "code",
      "execution_count": 108,
      "metadata": {
        "id": "2fUAqAlouW2B"
      },
      "outputs": [],
      "source": [
        "def weighted_mom(values, weights, par):\n",
        "    m = np.average(values, weights=weights)\n",
        "    var = np.average((values - m)**par, weights=weights)\n",
        "    return var * 1000\n",
        "\n",
        "class Moment_Stat(object):\n",
        "    def __init__(self, par=3):\n",
        "        self.par = par\n",
        "    \n",
        "    def label(self):\n",
        "        return str(self.par) + \" moment\" \n",
        "\n",
        "    def apply(self, preds, hist_vals):\n",
        "        probs = hist_vals[0] / sum(hist_vals[0])\n",
        "        values = hist_vals[1]\n",
        "\n",
        "        return weighted_mom(values[1:], probs, self.par)"
      ],
      "id": "2fUAqAlouW2B"
    },
    {
      "cell_type": "code",
      "execution_count": 109,
      "metadata": {
        "id": "fzNig3beuX57"
      },
      "outputs": [],
      "source": [
        "class PercentDiff_Stat(object):\n",
        "    def __init__(self, par_left=0, par_right=100):\n",
        "        self.par_left = par_left\n",
        "        self.par_right = par_right \n",
        "    \n",
        "    def label(self):\n",
        "        return \"Diff \" + str(self.par_right) + \" and \" +  str(self.par_left) + \" perc\"\n",
        "\n",
        "    def apply(self, preds, hist_vals):\n",
        "        right_border = np.percentile(preds, self.par_right)\n",
        "        left_border = np.percentile(preds, self.par_left)\n",
        "        return abs(right_border - left_border)"
      ],
      "id": "fzNig3beuX57"
    },
    {
      "cell_type": "code",
      "execution_count": 110,
      "metadata": {
        "id": "rDVwnfDruhGQ"
      },
      "outputs": [],
      "source": [
        "class Entropy(object):\n",
        "    def __init__(self):\n",
        "        pass\n",
        "    \n",
        "    def label(self):\n",
        "        return \"Entropy\"\n",
        "\n",
        "    def apply(self, preds, hist_vals):\n",
        "        probs = hist_vals[0] / sum(hist_vals[0])\n",
        "        return entropy(probs)"
      ],
      "id": "rDVwnfDruhGQ"
    },
    {
      "cell_type": "code",
      "execution_count": 111,
      "metadata": {
        "id": "_9cH5WQiuiP8"
      },
      "outputs": [],
      "source": [
        "class Kurtosis_Stat(object):\n",
        "    def __init__(self):\n",
        "        pass\n",
        "    \n",
        "    def label(self):\n",
        "        return \"Kurtosis\" \n",
        "\n",
        "    def apply(self, preds, hist_vals):\n",
        "        return kurtosis(hist_vals[0])"
      ],
      "id": "_9cH5WQiuiP8"
    },
    {
      "cell_type": "code",
      "execution_count": 112,
      "metadata": {
        "id": "-jDOUqGLuqwN"
      },
      "outputs": [],
      "source": [
        "class ClustersAmount_stat(object):\n",
        "    def __init__(self, model=DBSCAN(eps=0.01, min_samples=3)):\n",
        "        self.model = model\n",
        "    \n",
        "    def label(self):\n",
        "        if isinstance(self.model, WishartClusterization):\n",
        "            return \"Amount of clusters Wishart\" \n",
        "        return \"Amount of clusters\"\n",
        "\n",
        "    def apply(self, preds, hist_vals):\n",
        "        if isinstance(self.model, WishartClusterization):\n",
        "            values = np.array(np.unique(preds))\n",
        "            if len(values) == 2:\n",
        "                if abs(values[0] - values[1]) <= 0.001:\n",
        "                    return 1\n",
        "                return 2\n",
        "        else:\n",
        "            values = np.array(preds)\n",
        "        \n",
        "        if len(values) == 1:\n",
        "            return 1\n",
        "\n",
        "        clusters = self.model.fit(values.reshape(-1, 1))\n",
        "        return len(np.unique(clusters.labels_[clusters.labels_ != -1]))"
      ],
      "id": "-jDOUqGLuqwN"
    },
    {
      "cell_type": "code",
      "execution_count": 113,
      "metadata": {
        "id": "-VieQbF-uN3-"
      },
      "outputs": [],
      "source": [
        "all_stats = [\n",
        "             Multimode_Stat(par=0.2),\n",
        "             Moment_Stat(par=2),\n",
        "             PercentDiff_Stat(par_left=20, par_right=80),\n",
        "             Entropy(),\n",
        "             Kurtosis_Stat(),\n",
        "             ClustersAmount_stat()\n",
        "]"
      ],
      "id": "-VieQbF-uN3-"
    },
    {
      "cell_type": "code",
      "source": [
        "lin_stats = [\n",
        "              Multimode_Stat(par=0.2),\n",
        "              Moment_Stat(par=2),\n",
        "              ClustersAmount_stat(WishartClusterization(3, 0.1))\n",
        "        ]"
      ],
      "metadata": {
        "id": "en6xBmM0OwPf"
      },
      "id": "en6xBmM0OwPf",
      "execution_count": 114,
      "outputs": []
    },
    {
      "cell_type": "markdown",
      "metadata": {
        "id": "OEMYQE-LzanG"
      },
      "source": [
        "### Поиск непрогнозируемых точек"
      ],
      "id": "OEMYQE-LzanG"
    },
    {
      "cell_type": "code",
      "execution_count": null,
      "metadata": {
        "id": "PwbCxWsRztMZ"
      },
      "outputs": [],
      "source": [
        "def find_bad_points(demon):\n",
        "    good_points = []\n",
        "    bad_points = []\n",
        "    labels = []\n",
        "\n",
        "    for start_point in range(1, PTS):\n",
        "        for step in range(1, STEPS + 1):\n",
        "            #print(start_point, step)\n",
        "            if demon.get_predictions()[start_point][start_point + step]:\n",
        "                good_points.append((start_point, step))\n",
        "            else:\n",
        "                bad_points.append((start_point, step))\n",
        "\n",
        "    return good_points, bad_points"
      ],
      "id": "PwbCxWsRztMZ"
    },
    {
      "cell_type": "code",
      "execution_count": null,
      "metadata": {
        "id": "kY_nQSpWzu7Q"
      },
      "outputs": [],
      "source": [
        "Ideal_deamon_mix_val = IdealDeamon(mode='mix', real_vals=x_val)"
      ],
      "id": "kY_nQSpWzu7Q"
    },
    {
      "cell_type": "code",
      "execution_count": null,
      "metadata": {
        "id": "D1kxyAqVzwgj"
      },
      "outputs": [],
      "source": [
        "generate_predictions(centers, deamon=Ideal_deamon_mix_val, real_mode='val')"
      ],
      "id": "D1kxyAqVzwgj"
    },
    {
      "cell_type": "code",
      "execution_count": null,
      "metadata": {
        "id": "M4c04C3c9TO4"
      },
      "outputs": [],
      "source": [
        "good_points, bad_points = find_bad_points(Ideal_deamon_mix_val) \n",
        "\n",
        "good_bad_ratio = int(round(len(bad_points) / len(good_points)))"
      ],
      "id": "M4c04C3c9TO4"
    },
    {
      "cell_type": "code",
      "execution_count": 103,
      "metadata": {
        "colab": {
          "base_uri": "https://localhost:8080/"
        },
        "id": "LzIv5hcNHrkm",
        "outputId": "9991856c-c498-4834-d2d9-1ffe2f3674eb"
      },
      "outputs": [
        {
          "output_type": "stream",
          "name": "stdout",
          "text": [
            "4309 / 641 = 7\n"
          ]
        }
      ],
      "source": [
        "print(len(bad_points), '/', len(good_points), '=', good_bad_ratio)"
      ],
      "id": "LzIv5hcNHrkm"
    },
    {
      "cell_type": "markdown",
      "metadata": {
        "id": "W30Um32FABau"
      },
      "source": [
        "### Построение обучающей выборки для классификатора"
      ],
      "id": "W30Um32FABau"
    },
    {
      "cell_type": "code",
      "execution_count": 104,
      "metadata": {
        "id": "yPbbyhzyAAbg"
      },
      "outputs": [],
      "source": [
        "Simple_deamon_mix_val = SimpleDeamon(mode='mix')"
      ],
      "id": "yPbbyhzyAAbg"
    },
    {
      "cell_type": "code",
      "execution_count": null,
      "metadata": {
        "id": "nOtiOswmzxVS"
      },
      "outputs": [],
      "source": [
        "generate_predictions(centers, deamon=Simple_deamon_mix_val, real_mode='val')"
      ],
      "id": "nOtiOswmzxVS"
    },
    {
      "cell_type": "code",
      "execution_count": 121,
      "metadata": {
        "id": "gXBN0W8YzrQT"
      },
      "outputs": [],
      "source": [
        "def get_features_for_clf(stats):\n",
        "    good_features = []\n",
        "    bad_features = []\n",
        "\n",
        "    good_labels = []\n",
        "    bad_labels = []\n",
        "\n",
        "\n",
        "    for start, step in good_points:    \n",
        "        pred, preds, weights = get_weights(start, step, 'mix', Simple_deamon_mix_val.get_set_predictions())\n",
        "        hist_vals = np.histogram(preds, weights=weights, bins=100, range=(0, 1))    \n",
        "        cur_feat = []\n",
        "        for stat in stats:\n",
        "            cur_feat.append(stat.apply(preds, hist_vals))\n",
        "        good_features.append(cur_feat)\n",
        "        good_labels.append(1)\n",
        "\n",
        "    for start, step in bad_points:\n",
        "        pred, preds, weights = get_weights(start, step, 'mix', Simple_deamon_mix_val.get_set_predictions())\n",
        "        hist_vals = np.histogram(preds, weights=weights, bins=100, range=(0, 1))    \n",
        "        cur_feat = []\n",
        "        if preds:\n",
        "          for stat in stats:\n",
        "              cur_feat.append(stat.apply(preds, hist_vals))\n",
        "          bad_features.append(cur_feat)\n",
        "          bad_labels.append(0)\n",
        "\n",
        "    return good_features + bad_features, good_labels + bad_labels\n",
        "\n",
        "X, y = get_features_for_clf(all_stats)\n",
        "X_lin, y_lin = get_features_for_clf(lin_stats)"
      ],
      "id": "gXBN0W8YzrQT"
    },
    {
      "cell_type": "code",
      "source": [
        "len(X)"
      ],
      "metadata": {
        "colab": {
          "base_uri": "https://localhost:8080/"
        },
        "id": "lzW6CI-NAzdv",
        "outputId": "916e0cd5-bb84-424e-a081-86b7ddc71025"
      },
      "id": "lzW6CI-NAzdv",
      "execution_count": 123,
      "outputs": [
        {
          "output_type": "execute_result",
          "data": {
            "text/plain": [
              "4930"
            ]
          },
          "metadata": {},
          "execution_count": 123
        }
      ]
    },
    {
      "cell_type": "code",
      "execution_count": 124,
      "metadata": {
        "id": "0Ia7F58v3_6e"
      },
      "outputs": [],
      "source": [
        "np.save(\"drive/My Drive/irka/real/x_real.npy\", X)\n",
        "np.save(\"drive/My Drive/irka/real/y_real.npy\", y)"
      ],
      "id": "0Ia7F58v3_6e"
    },
    {
      "cell_type": "code",
      "source": [
        "np.save(\"drive/My Drive/irka/real/x_lin.npy\", X_lin)\n",
        "np.save(\"drive/My Drive/irka/real/y_lin.npy\", y_lin)"
      ],
      "metadata": {
        "id": "B1-hauy6QEaO"
      },
      "id": "B1-hauy6QEaO",
      "execution_count": 125,
      "outputs": []
    },
    {
      "cell_type": "code",
      "execution_count": 126,
      "metadata": {
        "id": "SyvHNN7vAtLT"
      },
      "outputs": [],
      "source": [
        "def scale(X):\n",
        "    scaler = MinMaxScaler()\n",
        "    scaler.fit(X)\n",
        "    X = scaler.transform(X)\n",
        "    return X, scaler\n",
        "\n",
        "X, scaler = scale(X)\n",
        "X_lin, lin_scaler = scale(X_lin)"
      ],
      "id": "SyvHNN7vAtLT"
    },
    {
      "cell_type": "code",
      "execution_count": 127,
      "metadata": {
        "id": "FvEAsVwIAyIH"
      },
      "outputs": [],
      "source": [
        "def data_balance(X, y):\n",
        "    sm = SMOTE()\n",
        "    X_res, y_res = sm.fit_resample(X, y)\n",
        "    return X_res, y_res\n",
        "\n",
        "X, y = data_balance(X, y)\n",
        "X_lin, y_lin = data_balance(X_lin, y_lin)"
      ],
      "id": "FvEAsVwIAyIH"
    },
    {
      "cell_type": "markdown",
      "metadata": {
        "id": "mW78rkNUzSYG"
      },
      "source": [
        "### Результаты алгоритма"
      ],
      "id": "mW78rkNUzSYG"
    },
    {
      "cell_type": "code",
      "execution_count": 128,
      "metadata": {
        "id": "P9QWKoTpgFOj"
      },
      "outputs": [],
      "source": [
        "clf = KNeighborsClassifier(n_neighbors=3, weights='distance')\n",
        "trained_clf = clf.fit(X, y)\n",
        "init_demon = MLDemon(clf=trained_clf, stats=all_stats, scaler=scaler)"
      ],
      "id": "P9QWKoTpgFOj"
    },
    {
      "cell_type": "code",
      "execution_count": null,
      "metadata": {
        "id": "7PZxHPere4L2"
      },
      "outputs": [],
      "source": [
        "generate_predictions(centers, deamon=init_demon, real_mode='test') #92 86 77"
      ],
      "id": "7PZxHPere4L2"
    },
    {
      "cell_type": "code",
      "source": [
        "init_demon.get_predictions()"
      ],
      "metadata": {
        "id": "kuEZiyqZyTRk"
      },
      "id": "kuEZiyqZyTRk",
      "execution_count": null,
      "outputs": []
    },
    {
      "cell_type": "code",
      "execution_count": 145,
      "metadata": {
        "id": "nf0lFUeQfIHP"
      },
      "outputs": [],
      "source": [
        "np.save('drive/My Drive/irka/real/init_demon_real_test_pred.npy', init_demon.get_predictions())\n",
        "np.save('drive/My Drive/irka/real/init_demon_real_test_set.npy', init_demon.get_set_predictions())"
      ],
      "id": "nf0lFUeQfIHP"
    },
    {
      "cell_type": "code",
      "source": [
        "visualize_point([(init_demon, 'initial res avg')], \n",
        "                17, \n",
        "                real_vals=x_test\n",
        "                )"
      ],
      "metadata": {
        "colab": {
          "base_uri": "https://localhost:8080/",
          "height": 513
        },
        "id": "HWY0QGFY66vb",
        "outputId": "88c70993-f151-4bd2-9300-00c6db861283"
      },
      "id": "HWY0QGFY66vb",
      "execution_count": 144,
      "outputs": [
        {
          "output_type": "display_data",
          "data": {
            "text/plain": [
              "<Figure size 1440x576 with 1 Axes>"
            ],
            "image/png": "[encoded data removed]"
          },
          "metadata": {
            "needs_background": "light"
          }
        }
      ]
    },
    {
      "cell_type": "code",
      "source": [
        "deamons = [(init_demon, \"initial predictions\")]\n",
        "get_metrics(deamons, x_test)"
      ],
      "metadata": {
        "colab": {
          "base_uri": "https://localhost:8080/",
          "height": 741
        },
        "id": "PnWh9gRmxEw2",
        "outputId": "ef0e1b0a-022c-4e00-ee54-f22e292017f8"
      },
      "id": "PnWh9gRmxEw2",
      "execution_count": 131,
      "outputs": [
        {
          "output_type": "display_data",
          "data": {
            "text/plain": [
              "<Figure size 720x720 with 2 Axes>"
            ],
            "image/png": "[encoded data removed]"
          },
          "metadata": {
            "needs_background": "light"
          }
        }
      ]
    },
    {
      "cell_type": "code",
      "source": [
        "# generate_predictions(centers, deamon=Ideal_deamon_test, real_mode='test')"
      ],
      "metadata": {
        "id": "stOXyiyAR0vr"
      },
      "id": "stOXyiyAR0vr",
      "execution_count": null,
      "outputs": []
    },
    {
      "cell_type": "code",
      "source": [
        "# np.save('Ideal_deamon_test_pred.npy', Ideal_deamon_test.get_predictions())\n",
        "# np.save('Ideal_deamon_test_set.npy', Ideal_deamon_test.get_set_predictions())"
      ],
      "metadata": {
        "id": "IaD1RKyNRsf9"
      },
      "id": "IaD1RKyNRsf9",
      "execution_count": null,
      "outputs": []
    },
    {
      "cell_type": "code",
      "source": [
        "# deamons = [(init_demon, 'initial res'), (Ideal_deamon_test, 'ideal deamon')]\n",
        "# get_metrics(deamons, x_test)"
      ],
      "metadata": {
        "id": "lcIdFFG4_WGI"
      },
      "id": "lcIdFFG4_WGI",
      "execution_count": null,
      "outputs": []
    },
    {
      "cell_type": "code",
      "source": [
        "# init_demon_val_sf = MLDemon(clf=trained_clf, stats=all_stats, scaler=scaler)"
      ],
      "metadata": {
        "id": "SWQfdraTyCkK"
      },
      "id": "SWQfdraTyCkK",
      "execution_count": null,
      "outputs": []
    },
    {
      "cell_type": "code",
      "source": [
        "# generate_predictions(centers, deamon=init_demon_val_sf, real_mode='val_sf')"
      ],
      "metadata": {
        "id": "d8CAzYae-xKx"
      },
      "id": "d8CAzYae-xKx",
      "execution_count": null,
      "outputs": []
    },
    {
      "cell_type": "code",
      "source": [
        "# np.save('init_demon_val_pred.npy', init_demon_val_sf.get_predictions())\n",
        "# np.save('init_demon_val_set.npy', init_demon_val_sf.get_set_predictions())"
      ],
      "metadata": {
        "id": "VSlFaEawIC7W"
      },
      "id": "VSlFaEawIC7W",
      "execution_count": null,
      "outputs": []
    },
    {
      "cell_type": "code",
      "source": [
        "# deamons = [(init_demon_val_sf, 'initial res')]\n",
        "# get_metrics(deamons, x_val_sf)"
      ],
      "metadata": {
        "id": "xzsVDOWRCcWa"
      },
      "id": "xzsVDOWRCcWa",
      "execution_count": null,
      "outputs": []
    },
    {
      "cell_type": "markdown",
      "metadata": {
        "id": "UtXCK8YP_rcv"
      },
      "source": [
        "# Self-filling подготовка"
      ],
      "id": "UtXCK8YP_rcv"
    },
    {
      "cell_type": "code",
      "execution_count": 146,
      "metadata": {
        "id": "RzMhaN5OBLll"
      },
      "outputs": [],
      "source": [
        "WINDOW = 14"
      ],
      "id": "RzMhaN5OBLll"
    },
    {
      "cell_type": "code",
      "execution_count": 147,
      "metadata": {
        "id": "4wOaGCOLCDf3"
      },
      "outputs": [],
      "source": [
        "def generate_patterns_for_self():\n",
        "    self_patterns = generate_subsequences(WINDOW - 1, N - 1)\n",
        "    return random.choices(self_patterns, k=100)"
      ],
      "id": "4wOaGCOLCDf3"
    },
    {
      "cell_type": "code",
      "execution_count": 148,
      "metadata": {
        "id": "SDtrqowrCUNl"
      },
      "outputs": [],
      "source": [
        "self_patterns = generate_patterns_for_self()"
      ],
      "id": "SDtrqowrCUNl"
    },
    {
      "cell_type": "code",
      "execution_count": 149,
      "metadata": {
        "id": "K1iP1CqVCVH5"
      },
      "outputs": [],
      "source": [
        "x_trains = {}\n",
        "\n",
        "for pattern in self_patterns:\n",
        "    key = str_subseq(pattern + (WINDOW - 1,))\n",
        "    x_trains[key] = generate_sample(x_train, WINDOW, pattern, put_none=False)"
      ],
      "id": "K1iP1CqVCVH5"
    },
    {
      "cell_type": "code",
      "execution_count": 150,
      "metadata": {
        "colab": {
          "base_uri": "https://localhost:8080/"
        },
        "id": "GugF0SXihoof",
        "outputId": "a07318dc-8f83-400e-8537-f87822961ad5"
      },
      "outputs": [
        {
          "output_type": "stream",
          "name": "stdout",
          "text": [
            "CPU times: user 23min 47s, sys: 5.49 s, total: 23min 53s\n",
            "Wall time: 23min 51s\n"
          ]
        }
      ],
      "source": [
        "%%time\n",
        "\n",
        "self_centers = generate_centers(x_trains)"
      ],
      "id": "GugF0SXihoof"
    },
    {
      "cell_type": "code",
      "execution_count": 151,
      "metadata": {
        "id": "RZCKlp7endpm"
      },
      "outputs": [],
      "source": [
        "np.save(\"drive/My Drive/irka/real/self_centers_real.npy\", self_centers)"
      ],
      "id": "RZCKlp7endpm"
    },
    {
      "cell_type": "markdown",
      "metadata": {
        "id": "x5oKQp3vLrD_"
      },
      "source": [
        "# Self-filling функции"
      ],
      "id": "x5oKQp3vLrD_"
    },
    {
      "cell_type": "markdown",
      "source": [
        "### Переменные"
      ],
      "metadata": {
        "id": "h2JY-tPwtDru"
      },
      "id": "h2JY-tPwtDru"
    },
    {
      "cell_type": "code",
      "source": [
        "WINDOW = 14"
      ],
      "metadata": {
        "id": "IDZ2TrTw1Glh"
      },
      "execution_count": 153,
      "outputs": [],
      "id": "IDZ2TrTw1Glh"
    },
    {
      "cell_type": "code",
      "source": [
        "best_classifiers = [(LogisticRegression(C=1), 'logreg'),\n",
        "                    (SVC(C=1, kernel='poly'), 'svm'),\n",
        "                    (DecisionTreeClassifier(), 'decision tree'),\n",
        "                    (KNeighborsClassifier(n_neighbors=3, weights='distance'), 'knn'),\n",
        "                    (MLPClassifier(activation='logistic', hidden_layer_sizes=(128, 64, 32, 16)),\n",
        "                      'mlp')]"
      ],
      "metadata": {
        "id": "BgBsM0eXs2pz"
      },
      "execution_count": 208,
      "outputs": [],
      "id": "BgBsM0eXs2pz"
    },
    {
      "cell_type": "markdown",
      "source": [
        "### Классы алгоритма Self-filling"
      ],
      "metadata": {
        "id": "V-L7GrT8sZsw"
      },
      "id": "V-L7GrT8sZsw"
    },
    {
      "cell_type": "markdown",
      "source": [
        "#### \"Простой\" self-filling без определения непрогнозируемых точек  "
      ],
      "metadata": {
        "id": "trPosRZ-S-1S"
      },
      "id": "trPosRZ-S-1S"
    },
    {
      "cell_type": "code",
      "source": [
        "class SelfDemonSimple(object):\n",
        "    def __init__(self):\n",
        "        self.predictions = {point : [None for i in range(point + 1)] for point in range(PTS)}\n",
        "        self.set_predictions = {point : [None for i in range(point + 1)] for point in range(PTS)}\n",
        "\n",
        "    @property\n",
        "    def label(self):\n",
        "        return self.stat.label()\n",
        "\n",
        "    def predict(self, start_point, step, preds, val):\n",
        "        self.set_predictions[start_point].append(preds)\n",
        "        if not preds:\n",
        "            pred = val\n",
        "            self.predictions[start_point].append(pred)\n",
        "            return pred\n",
        "        \n",
        "        pred, preds, weights = get_weights(start_point, step, 'dist', self.set_predictions)\n",
        "        self.predictions[start_point].append(pred)\n",
        "        return pred\n",
        "    \n",
        "    def get_predictions(self):\n",
        "        return self.predictions\n",
        "    \n",
        "    def get_set_predictions(self):\n",
        "        return self.set_predictions\n",
        "\n",
        "    def set_preds(self, preds):\n",
        "        self.predictions = preds\n",
        "        return \n",
        "\n",
        "    def set_preds_set(self, preds):\n",
        "        self.set_predictions = preds\n",
        "        return"
      ],
      "metadata": {
        "id": "CpVRkkrCSanz"
      },
      "execution_count": 155,
      "outputs": [],
      "id": "CpVRkkrCSanz"
    },
    {
      "cell_type": "markdown",
      "source": [
        "#### \"Идеальный\" self-filling, сравнивающий прогноз с истинным значением"
      ],
      "metadata": {
        "id": "0vik8fpzTRA2"
      },
      "id": "0vik8fpzTRA2"
    },
    {
      "cell_type": "code",
      "source": [
        "class SelfDeamonIdeal(object):\n",
        "    def __init__(self, eps=0.05, mode='simple', real_vals=x_test):\n",
        "        self.eps = eps\n",
        "        self.real_vals=real_vals\n",
        "        self.predictions = {point : [None for i in range(point + 1)] for point in range(PTS)}\n",
        "        self.set_predictions = {point : [None for i in range(point + 1)] for point in range(PTS)}\n",
        "        \n",
        "    @property\n",
        "    def label(self):\n",
        "        return 'Ideal model of demon'\n",
        "\n",
        "    def predict(self, start_point, step, preds, val):\n",
        "        self.set_predictions[start_point].append(preds)\n",
        "        pred, _, _ = get_weights(start_point, step, 'dist', self.set_predictions)\n",
        "\n",
        "        if not pred or abs(pred - self.real_vals[start_point + step]) > self.eps:\n",
        "            pred = val\n",
        "\n",
        "        self.predictions[start_point].append(pred)\n",
        "        return pred\n",
        "    \n",
        "    def get_predictions(self):\n",
        "       return self.predictions\n",
        "    \n",
        "    def get_set_predictions(self):\n",
        "       return self.set_predictions\n",
        "\n",
        "    def set_preds(self, preds):\n",
        "        self.predictions = preds\n",
        "        return \n",
        "\n",
        "    def set_preds_set(self, preds):\n",
        "        self.set_predictions = preds\n",
        "        return"
      ],
      "metadata": {
        "id": "zSnwY40EVzp8"
      },
      "execution_count": 156,
      "outputs": [],
      "id": "zSnwY40EVzp8"
    },
    {
      "cell_type": "markdown",
      "source": [
        "#### Self-filling, использующий МО для определения непрогнозируемых точек"
      ],
      "metadata": {
        "id": "CDdSPzTOT2Mk"
      },
      "id": "CDdSPzTOT2Mk"
    },
    {
      "cell_type": "code",
      "execution_count": 157,
      "metadata": {
        "id": "spAbLMyuFrX-"
      },
      "outputs": [],
      "source": [
        "class SelfDemon(object):\n",
        "    def __init__(self, clf, stats, scaler, ensemble=False):\n",
        "        self.predictions = {point : [None for i in range(point + 1)] for point in range(PTS)}\n",
        "        self.set_predictions = {point : [None for i in range(point + 1)] for point in range(PTS)}\n",
        "        self.clf = clf\n",
        "        self.stats = stats\n",
        "        self.scaler = scaler\n",
        "        self.ensemble = ensemble\n",
        "        \n",
        "    @property\n",
        "    def label(self):\n",
        "        return self.stat.label()\n",
        "\n",
        "    def predict(self, start_point, step, preds, val):\n",
        "        self.set_predictions[start_point].append(preds)\n",
        "        if not preds:\n",
        "            pred = val\n",
        "            self.predictions[start_point].append(pred)\n",
        "            return pred\n",
        "        \n",
        "        pred, preds, weights = get_weights(start_point, step, 'dist', self.set_predictions)\n",
        "        hist_vals = np.histogram(preds, weights=weights, bins=100, range=(0, 1)) \n",
        "\n",
        "        features = []\n",
        "        for stat in self.stats:\n",
        "            features.append(stat.apply(preds, hist_vals))\n",
        "        \n",
        "        features = self.scaler.transform([features])\n",
        "        \n",
        "        if self.ensemble:\n",
        "            votes = self.clf.predict(features)\n",
        "\n",
        "            if np.mean(votes) <= 0.5:\n",
        "                pred = val\n",
        "                self.predictions[start_point].append(pred)\n",
        "                return pred\n",
        "        else:\n",
        "            if not self.clf.predict(features):\n",
        "                pred = val\n",
        "                self.predictions[start_point].append(pred)\n",
        "                return pred\n",
        "\n",
        "        self.predictions[start_point].append(pred)\n",
        "        return pred\n",
        "    \n",
        "    def get_predictions(self):\n",
        "        return self.predictions\n",
        "    \n",
        "    def get_set_predictions(self):\n",
        "        return self.set_predictions\n",
        "\n",
        "    # def reset(self):\n",
        "    #     self.predictions = {point : [None for i in range(point + 1)] for point in range(PTS)}\n",
        "    #     self.set_predictions = {point : [None for i in range(point + 1)] for point in range(PTS)}\n",
        "\n",
        "\n",
        "    def set_preds(self, preds):\n",
        "        self.predictions = preds\n",
        "        return \n",
        "\n",
        "    def set_preds_set(self, preds):\n",
        "        self.set_predictions = preds\n",
        "        return"
      ],
      "id": "spAbLMyuFrX-"
    },
    {
      "cell_type": "markdown",
      "source": [
        "### Функции"
      ],
      "metadata": {
        "id": "R92Y12nPsfYk"
      },
      "id": "R92Y12nPsfYk"
    },
    {
      "cell_type": "markdown",
      "source": [
        "#### Подстановка паттерна с позицией точки"
      ],
      "metadata": {
        "id": "hCsD-zgAUVGh"
      },
      "id": "hCsD-zgAUVGh"
    },
    {
      "cell_type": "code",
      "source": [
        "def gen_sample_in_point_sf(values, window, pattern, pos, i): #change\n",
        "    if i == N - 1 or pos - window + 1 + pattern[0] >= 0:\n",
        "        vals = []\n",
        "        bad = False\n",
        "\n",
        "        if i != N - 1:\n",
        "            bad = values[pos] == None\n",
        "\n",
        "        for j in range(len(pattern)):\n",
        "            val = values[pos - window + 1 + pattern[j]]\n",
        "            if val == None and i != j:\n",
        "                bad = True\n",
        "                break\n",
        "            vals.append(val)\n",
        "        if bad:\n",
        "            return None\n",
        "        \n",
        "        vals.append(values[pos])\n",
        "        return vals\n",
        "    else:\n",
        "        return None"
      ],
      "metadata": {
        "id": "3DjrBj4J1GrJ"
      },
      "execution_count": 158,
      "outputs": [],
      "id": "3DjrBj4J1GrJ"
    },
    {
      "cell_type": "markdown",
      "source": [
        "#### Функция предсказания "
      ],
      "metadata": {
        "id": "2CN97Y0mUbew"
      },
      "id": "2CN97Y0mUbew"
    },
    {
      "cell_type": "code",
      "execution_count": 159,
      "metadata": {
        "id": "Li0rTORMHxiB"
      },
      "outputs": [],
      "source": [
        "from tqdm import trange, tqdm\n",
        "\n",
        "def generate_predictions_sf(sf_centers, demon, self_demon, return_set_pred=False, all=False, extend=False, last_p=False, real_mode='test',\n",
        "                          EPS=0.05, Q_VALUE=0.99):\n",
        "\n",
        "    start_p_preds = {}\n",
        "    start_p_set_preds = {}\n",
        "\n",
        "    #mycomm: тестовая\n",
        "    if real_mode == 'test':\n",
        "        end_point = val_sf_end \n",
        "        init_point = test_init\n",
        "    \n",
        "    #mycomm: валидационная\n",
        "    else:\n",
        "        end_point = val_end \n",
        "        init_point = val_sf_init\n",
        "\n",
        "    patterns_tmp = list(map(lambda x: tuple(list(map(lambda y: int(y), x.split(',')[:-1]))), list(sf_centers.keys())))  \n",
        "\n",
        "    for start_point in tqdm(range(1, PTS)): \n",
        "\n",
        "        # initialize empty\n",
        "        start_p_preds[start_point] = [None] * (start_point + 1) \n",
        "        if return_set_pred:\n",
        "            start_p_set_preds[start_point] = [None] * (start_point + 1)\n",
        "\n",
        "        \n",
        "        data = demon.get_predictions()[start_point][start_point + 1:]\n",
        "      \n",
        "        # проходимся по ряду\n",
        "        for step in range(1, STEPS + 1):\n",
        "            possible_vals = []\n",
        "            if extend:\n",
        "                possible_vals = demon.get_set_predictions()[start_point][start_point + step]\n",
        "            \n",
        "            if data and (data[step - 1] is None) or (all and step > WINDOW):\n",
        "                    \n",
        "                # проходимся по позициям в паттерне \n",
        "                for i in range(N - 1):            \n",
        "                    x_tests_for_point = {}\n",
        "                    \n",
        "                    # проходимя по паттернам  \n",
        "                    for pattern in patterns_tmp:    \n",
        "                        key = str_subseq(pattern + (WINDOW - 1,))\n",
        "                        x_tests_for_point[key] = None\n",
        "\n",
        "                        start_w = step - 1 - pattern[i]\n",
        "\n",
        "                        if start_w >= 0:\n",
        "                          wind = data[start_w : start_w + WINDOW]\n",
        "                          sample = gen_sample_in_point_sf(wind, WINDOW, pattern, len(wind) - 1, i) \n",
        "                          \n",
        "                          if sample:\n",
        "                              x_tests_for_point[key] = sample\n",
        "\n",
        "          \n",
        "                    chosen_centers = []\n",
        "                    for pattern, centers_values in sf_centers.items():\n",
        "\n",
        "                        if not x_tests_for_point[pattern] is None:\n",
        "                            vector = np.array(x_tests_for_point[pattern][:i] + x_tests_for_point[pattern][i + 1:])\n",
        "\n",
        "                            for center in centers_values:\n",
        "                                dist = euclidean(vector, np.hstack((center[:i], center[i + 1:])))\n",
        "                                if dist < EPS:\n",
        "                                    weight_d = (EPS - dist) / EPS\n",
        "                                    chosen_centers.append((pattern, center, weight_d))\n",
        "\n",
        "\n",
        "                            possible_vals += list(map(lambda center: (center[1][i], center[2], center[0]), \n",
        "                                                  chosen_centers)) #mycomm: (i-е значение, d, паттерн)\n",
        "\n",
        "                if last_p:\n",
        "                    for pattern in patterns_tmp:\n",
        "                        key = str_subseq(pattern + (WINDOW - 1,)) \n",
        "                        start_w = step - WINDOW\n",
        "                        # print(step, start_w)\n",
        "\n",
        "                        if start_w >= 0:\n",
        "                              wind = data[start_w : start_w + WINDOW]\n",
        "\n",
        "                        # print(wind)\n",
        "                        sample = gen_sample_in_point_sf(wind, WINDOW, pattern, len(wind) - 1, N-1)\n",
        "                        \n",
        "                        if not sample:\n",
        "                            x_tests_for_point[key] = None\n",
        "                        else:\n",
        "                            x_tests_for_point[key] = sample\n",
        "                            # print(sample[-1])\n",
        "\n",
        "                    chosen_centers = []\n",
        "                    for pattern, centers_values in sf_centers.items():\n",
        "\n",
        "                        if not x_tests_for_point[pattern] is None:\n",
        "                            vector = np.array(x_tests_for_point[pattern][:-1])\n",
        "\n",
        "                            for center in centers_values:\n",
        "                                dist = euclidean(vector, center[:-1])\n",
        "                                if dist < EPS:\n",
        "                                    weight_d = (EPS - dist) / EPS\n",
        "                                    chosen_centers.append((pattern, center, weight_d))\n",
        "\n",
        "\n",
        "                            possible_vals += list(map(lambda center: (center[1][-1], center[2], center[0]), \n",
        "                                                  chosen_centers)) #mycomm: (i-е значение, d, паттерн)\n",
        "                                  \n",
        "\n",
        "\n",
        "            result_point = self_demon.predict(start_point, step, possible_vals, data[step - 1])\n",
        "            \n",
        "            start_p_preds[start_point].append(result_point)\n",
        "\n",
        "            if return_set_pred:\n",
        "                start_p_set_preds[start_point].append(possible_vals)\n",
        "\n",
        "    if return_set_pred:\n",
        "        return start_p_preds, start_p_set_preds\n",
        "\n",
        "    return start_p_preds"
      ],
      "id": "Li0rTORMHxiB"
    },
    {
      "cell_type": "markdown",
      "source": [
        "#### Применение и скачивание self-filling"
      ],
      "metadata": {
        "id": "H2dl_DYpfMwF"
      },
      "id": "H2dl_DYpfMwF"
    },
    {
      "cell_type": "code",
      "source": [
        "def load_sf_ml(X, y, n, clf, stats, scaler, path, ex=False):\n",
        "  sf = []\n",
        "\n",
        "  clf.fit(X, y)\n",
        "\n",
        "  for i in range(n):\n",
        "      sf.append(SelfDemon(clf, lin_stats, lin_scaler))\n",
        "      f_name_pred = path + '_pred' + str(i + 1)\n",
        "      f_name_set = path + '_set' + str(i + 1)\n",
        "\n",
        "      if ex:\n",
        "        f_name_pred += '_ex'\n",
        "        f_name_set += '_ex'\n",
        "\n",
        "      f_name_pred += '.npy'\n",
        "      f_name_set += '.npy'\n",
        "\n",
        "      preds = np.load(f_name_pred, allow_pickle=True).item()\n",
        "      #preds_set = np.load(f_name_set, allow_pickle=True).item()\n",
        "      sf[i].set_preds(preds)\n",
        "      #sf[i].set_preds_set(preds_set)\n",
        "  return sf"
      ],
      "metadata": {
        "id": "scsaHJjueApH"
      },
      "execution_count": 160,
      "outputs": [],
      "id": "scsaHJjueApH"
    },
    {
      "cell_type": "code",
      "source": [
        "def apply_sf_ml(X, y, n, clf, stats, scaler, init=init_demon, all=False, extend=False, eps=0.05, last_p=False, self_centers=self_centers):\n",
        "  sf = []\n",
        "\n",
        "  clf.fit(X, y)\n",
        "\n",
        "  for i in range(n):\n",
        "      sf.append(SelfDemon(clf, stats, scaler))\n",
        "\n",
        "  generate_predictions_sf(self_centers, init, sf[0], all=all, extend=extend, last_p=True)\n",
        "\n",
        "  for i in range(len(sf) - 1):\n",
        "    generate_predictions_sf(self_centers, sf[i], sf[i + 1], all=all, extend=extend, EPS=eps, last_p=last_p)\n",
        "\n",
        "  return sf"
      ],
      "metadata": {
        "id": "oLzUWAUGmOvI"
      },
      "execution_count": 161,
      "outputs": [],
      "id": "oLzUWAUGmOvI"
    },
    {
      "cell_type": "markdown",
      "source": [
        "# Результаты self-filling"
      ],
      "metadata": {
        "id": "YjiHlV6-XLp_"
      },
      "id": "YjiHlV6-XLp_"
    },
    {
      "cell_type": "code",
      "source": [
        "sf_lin = apply_sf_ml(X_lin, y_lin, 15, best_classifiers[0][0], lin_stats, lin_scaler, all=False, extend=False, last_p=True)"
      ],
      "metadata": {
        "id": "ASLoEBfBnHUQ",
        "colab": {
          "base_uri": "https://localhost:8080/"
        },
        "outputId": "3baecb94-a50e-4cfd-8f08-bf6014be5946"
      },
      "id": "ASLoEBfBnHUQ",
      "execution_count": 209,
      "outputs": [
        {
          "output_type": "stream",
          "name": "stderr",
          "text": [
            "100%|██████████| 99/99 [00:13<00:00,  7.13it/s]\n",
            "100%|██████████| 99/99 [00:28<00:00,  3.53it/s]\n",
            "100%|██████████| 99/99 [00:35<00:00,  2.76it/s]\n",
            "100%|██████████| 99/99 [00:38<00:00,  2.56it/s]\n",
            "100%|██████████| 99/99 [00:42<00:00,  2.34it/s]\n",
            "100%|██████████| 99/99 [00:50<00:00,  1.98it/s]\n",
            "100%|██████████| 99/99 [00:57<00:00,  1.73it/s]\n",
            "100%|██████████| 99/99 [00:51<00:00,  1.91it/s]\n",
            "100%|██████████| 99/99 [00:44<00:00,  2.22it/s]\n",
            "100%|██████████| 99/99 [00:33<00:00,  2.93it/s]\n",
            "100%|██████████| 99/99 [00:32<00:00,  3.03it/s]\n",
            "100%|██████████| 99/99 [00:35<00:00,  2.78it/s]\n",
            "100%|██████████| 99/99 [00:36<00:00,  2.68it/s]\n",
            "100%|██████████| 99/99 [00:35<00:00,  2.82it/s]\n",
            "100%|██████████| 99/99 [00:31<00:00,  3.12it/s]\n"
          ]
        }
      ]
    },
    {
      "cell_type": "code",
      "source": [
        "visualize_point([(sf_lin[-1], 'self-filling, n=15'), (init_demon, 'initial predictions')], \n",
        "                92, \n",
        "                real_vals=x_test\n",
        "                )"
      ],
      "metadata": {
        "colab": {
          "base_uri": "https://localhost:8080/",
          "height": 513
        },
        "id": "O7xnxaQwOCJo",
        "outputId": "cfbebdd9-2509-423f-a859-3aefc36050e0"
      },
      "id": "O7xnxaQwOCJo",
      "execution_count": 211,
      "outputs": [
        {
          "output_type": "display_data",
          "data": {
            "text/plain": [
              "<Figure size 1440x576 with 1 Axes>"
            ],
            "image/png": "[encoded data removed]"
          },
          "metadata": {
            "needs_background": "light"
          }
        }
      ]
    },
    {
      "cell_type": "code",
      "source": [
        "deamons = [(sf_lin[14], 'logreg [lp], n=15'),\n",
        "           (init_demon, \"initial predictions\")\n",
        "]\n",
        "get_metrics(deamons, x_test)"
      ],
      "metadata": {
        "colab": {
          "base_uri": "https://localhost:8080/",
          "height": 741
        },
        "id": "u1fncYLFp9Lk",
        "outputId": "3af54d75-3632-403d-a097-e91a4d1644fe"
      },
      "id": "u1fncYLFp9Lk",
      "execution_count": 212,
      "outputs": [
        {
          "output_type": "display_data",
          "data": {
            "text/plain": [
              "<Figure size 720x720 with 2 Axes>"
            ],
            "image/png": "[encoded data removed]"
          },
          "metadata": {
            "needs_background": "light"
          }
        }
      ]
    }
  ],
  "metadata": {
    "colab": {
      "collapsed_sections": [
        "e86a0a34",
        "QkSFM8bW_26W",
        "6cb014a2",
        "a8e3bb00",
        "d2d4cade",
        "c2fe751f",
        "e475e21d",
        "927e9c29",
        "af0af598",
        "708f22be",
        "04c75469",
        "TlIAjlA6yyrw",
        "Ef0tLIeFVCKK",
        "GoOeqHbNWGhx",
        "CBaZoXWHWJhW",
        "9ba74b0e",
        "2db315d8",
        "78ca3ca6",
        "aysKUxwbgCgX",
        "OEMYQE-LzanG",
        "v20KXnTVuRrS",
        "mW78rkNUzSYG",
        "UtXCK8YP_rcv",
        "x5oKQp3vLrD_",
        "trPosRZ-S-1S",
        "0vik8fpzTRA2",
        "CDdSPzTOT2Mk",
        "hCsD-zgAUVGh",
        "2CN97Y0mUbew",
        "5vPcVz3Oewk_",
        "hjAcgLjEYfRm",
        "VvQ_JjCbnH3Z",
        "jmjeDmq6sK3j",
        "wKYcg6n15KiA",
        "-m7kkFyZvokY",
        "SqYYzdMP1af8",
        "B47s6dFW1hIs",
        "bh_eYbgX1r1m",
        "PJclWIFYWyiQ",
        "o8jkuVnfXaHc",
        "pjjhtnFdXt-V",
        "KEepGdvGljKm",
        "jgmmAXlGKmEV",
        "-6NNwPTGarkC",
        "GeSDBPk5CfiT",
        "jxwnRlMNp2SP",
        "3aRDKBYd77eI",
        "5gEFu8er-7Bk",
        "OBeVCOIfrqmn",
        "RRDDcjkVMiqe",
        "wWW0UxtTbzYF"
      ],
      "name": "Результат на реальных данных",
      "provenance": [],
      "machine_shape": "hm"
    },
    "kernelspec": {
      "display_name": "Python 3",
      "language": "python",
      "name": "python3"
    },
    "language_info": {
      "codemirror_mode": {
        "name": "ipython",
        "version": 3
      },
      "file_extension": ".py",
      "mimetype": "text/x-python",
      "name": "python",
      "nbconvert_exporter": "python",
      "pygments_lexer": "ipython3",
      "version": "3.9.1"
    }
  },
  "nbformat": 4,
  "nbformat_minor": 5
}